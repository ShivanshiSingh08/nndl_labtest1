{
  "nbformat": 4,
  "nbformat_minor": 0,
  "metadata": {
    "colab": {
      "provenance": []
    },
    "kernelspec": {
      "name": "python3",
      "display_name": "Python 3"
    },
    "language_info": {
      "name": "python"
    }
  },
  "cells": [
    {
      "cell_type": "markdown",
      "source": [
        "**QUE -2  TWITTER AIRLINE**"
      ],
      "metadata": {
        "id": "VpML1dIn-zLT"
      }
    },
    {
      "cell_type": "markdown",
      "source": [
        " *Importing* necessary libraries"
      ],
      "metadata": {
        "id": "rgcOGue12lTv"
      }
    },
    {
      "cell_type": "code",
      "execution_count": 1,
      "metadata": {
        "id": "9Bwh9x321nYI"
      },
      "outputs": [],
      "source": [
        "import pandas as pd\n",
        "import numpy as np\n",
        "import matplotlib.pyplot as plt\n",
        "from sklearn.model_selection import train_test_split\n",
        "from sklearn.preprocessing import LabelEncoder\n",
        "from sklearn.metrics import accuracy_score\n",
        "import tensorflow as tf\n",
        "from tensorflow.keras.models import Sequential\n",
        "from tensorflow.keras.layers import Dense\n"
      ]
    },
    {
      "cell_type": "markdown",
      "source": [
        "Load and preprocess the dataset"
      ],
      "metadata": {
        "id": "rrWaSM_E2q-q"
      }
    },
    {
      "cell_type": "code",
      "source": [
        "\n",
        "dataset = pd.read_csv('/content/Tweets - Tweets.csv')\n",
        "\n",
        "# Selecting relevant columns\n",
        "data = dataset[['airline_sentiment', 'text']]\n",
        "\n",
        "# Encoding the sentiment into binary (1 for positive, 0 for negative/neutral)\n",
        "encoder = LabelEncoder()\n",
        "data['sentiment'] = encoder.fit_transform(data['airline_sentiment'].apply(lambda x: 'positive' if x == 'positive' else 'negative'))\n",
        "\n",
        "# Removing rows with missing data\n",
        "data.dropna(inplace=True)\n",
        "\n",
        "# Spliting into features (X) and labels (y)\n",
        "X = data['text']\n",
        "y = data['sentiment']\n",
        "\n",
        "# Text preprocessing (vectorization using tf-idf)\n",
        "from sklearn.feature_extraction.text import TfidfVectorizer\n",
        "vectorizer = TfidfVectorizer(max_features=500)\n",
        "X = vectorizer.fit_transform(X).toarray()\n",
        "\n",
        "# Train-test split\n",
        "X_train, X_test, y_train, y_test = train_test_split(X, y, test_size=0.2, random_state=42)\n"
      ],
      "metadata": {
        "colab": {
          "base_uri": "https://localhost:8080/"
        },
        "id": "kEGqtEwa2hZ-",
        "outputId": "58755678-81e4-49d2-80ce-33cc5772465a"
      },
      "execution_count": 2,
      "outputs": [
        {
          "output_type": "stream",
          "name": "stderr",
          "text": [
            "<ipython-input-2-1abfe6b0957b>:9: SettingWithCopyWarning: \n",
            "A value is trying to be set on a copy of a slice from a DataFrame.\n",
            "Try using .loc[row_indexer,col_indexer] = value instead\n",
            "\n",
            "See the caveats in the documentation: https://pandas.pydata.org/pandas-docs/stable/user_guide/indexing.html#returning-a-view-versus-a-copy\n",
            "  data['sentiment'] = encoder.fit_transform(data['airline_sentiment'].apply(lambda x: 'positive' if x == 'positive' else 'negative'))\n",
            "<ipython-input-2-1abfe6b0957b>:12: SettingWithCopyWarning: \n",
            "A value is trying to be set on a copy of a slice from a DataFrame\n",
            "\n",
            "See the caveats in the documentation: https://pandas.pydata.org/pandas-docs/stable/user_guide/indexing.html#returning-a-view-versus-a-copy\n",
            "  data.dropna(inplace=True)\n"
          ]
        }
      ]
    },
    {
      "cell_type": "markdown",
      "source": [
        " Create the feed-forward neural network"
      ],
      "metadata": {
        "id": "BXlBzHx_3Nwe"
      }
    },
    {
      "cell_type": "code",
      "source": [
        "def create_model(activation_function):\n",
        "    model = Sequential()\n",
        "    model.add(Dense(16, input_dim=X_train.shape[1], activation=activation_function))\n",
        "    model.add(Dense(8, activation=activation_function))\n",
        "    model.add(Dense(1, activation='sigmoid'))  # For binary classification\n",
        "    model.compile(optimizer='adam', loss='binary_crossentropy', metrics=['accuracy'])\n",
        "    return model\n"
      ],
      "metadata": {
        "id": "TzFNrRM03T2d"
      },
      "execution_count": 3,
      "outputs": []
    },
    {
      "cell_type": "markdown",
      "source": [
        "Training the model and visualizing performance"
      ],
      "metadata": {
        "id": "THt-2jdQ3Wzn"
      }
    },
    {
      "cell_type": "code",
      "source": [
        "activations = ['sigmoid', 'relu', 'tanh']\n",
        "histories = []\n",
        "\n",
        "for activation in activations:\n",
        "    print(f'Training with {activation} activation...')\n",
        "    model = create_model(activation_function=activation)\n",
        "    history = model.fit(X_train, y_train, epochs=10, batch_size=16, validation_data=(X_test, y_test))\n",
        "    histories.append((activation, history))\n",
        "\n",
        "    # Evaluate the model\n",
        "    y_pred = (model.predict(X_test) > 0.5).astype(int)\n",
        "    print(f\"Accuracy with {activation}: {accuracy_score(y_test, y_pred)}\")\n"
      ],
      "metadata": {
        "colab": {
          "base_uri": "https://localhost:8080/"
        },
        "id": "E724Osra3aph",
        "outputId": "384c74da-ecf0-41d7-d28e-e06a66bcdb92"
      },
      "execution_count": 4,
      "outputs": [
        {
          "output_type": "stream",
          "name": "stdout",
          "text": [
            "Training with sigmoid activation...\n"
          ]
        },
        {
          "output_type": "stream",
          "name": "stderr",
          "text": [
            "/usr/local/lib/python3.10/dist-packages/keras/src/layers/core/dense.py:87: UserWarning: Do not pass an `input_shape`/`input_dim` argument to a layer. When using Sequential models, prefer using an `Input(shape)` object as the first layer in the model instead.\n",
            "  super().__init__(activity_regularizer=activity_regularizer, **kwargs)\n"
          ]
        },
        {
          "output_type": "stream",
          "name": "stdout",
          "text": [
            "Epoch 1/10\n",
            "\u001b[1m732/732\u001b[0m \u001b[32m━━━━━━━━━━━━━━━━━━━━\u001b[0m\u001b[37m\u001b[0m \u001b[1m3s\u001b[0m 2ms/step - accuracy: 0.8383 - loss: 0.4606 - val_accuracy: 0.8432 - val_loss: 0.4146\n",
            "Epoch 2/10\n",
            "\u001b[1m732/732\u001b[0m \u001b[32m━━━━━━━━━━━━━━━━━━━━\u001b[0m\u001b[37m\u001b[0m \u001b[1m1s\u001b[0m 2ms/step - accuracy: 0.8414 - loss: 0.4006 - val_accuracy: 0.8432 - val_loss: 0.3299\n",
            "Epoch 3/10\n",
            "\u001b[1m732/732\u001b[0m \u001b[32m━━━━━━━━━━━━━━━━━━━━\u001b[0m\u001b[37m\u001b[0m \u001b[1m3s\u001b[0m 2ms/step - accuracy: 0.8497 - loss: 0.3147 - val_accuracy: 0.8992 - val_loss: 0.2703\n",
            "Epoch 4/10\n",
            "\u001b[1m732/732\u001b[0m \u001b[32m━━━━━━━━━━━━━━━━━━━━\u001b[0m\u001b[37m\u001b[0m \u001b[1m1s\u001b[0m 2ms/step - accuracy: 0.8890 - loss: 0.2612 - val_accuracy: 0.9054 - val_loss: 0.2500\n",
            "Epoch 5/10\n",
            "\u001b[1m732/732\u001b[0m \u001b[32m━━━━━━━━━━━━━━━━━━━━\u001b[0m\u001b[37m\u001b[0m \u001b[1m3s\u001b[0m 2ms/step - accuracy: 0.9036 - loss: 0.2412 - val_accuracy: 0.9078 - val_loss: 0.2434\n",
            "Epoch 6/10\n",
            "\u001b[1m732/732\u001b[0m \u001b[32m━━━━━━━━━━━━━━━━━━━━\u001b[0m\u001b[37m\u001b[0m \u001b[1m2s\u001b[0m 3ms/step - accuracy: 0.9096 - loss: 0.2278 - val_accuracy: 0.9054 - val_loss: 0.2412\n",
            "Epoch 7/10\n",
            "\u001b[1m732/732\u001b[0m \u001b[32m━━━━━━━━━━━━━━━━━━━━\u001b[0m\u001b[37m\u001b[0m \u001b[1m2s\u001b[0m 2ms/step - accuracy: 0.9127 - loss: 0.2178 - val_accuracy: 0.9044 - val_loss: 0.2406\n",
            "Epoch 8/10\n",
            "\u001b[1m732/732\u001b[0m \u001b[32m━━━━━━━━━━━━━━━━━━━━\u001b[0m\u001b[37m\u001b[0m \u001b[1m2s\u001b[0m 2ms/step - accuracy: 0.9114 - loss: 0.2288 - val_accuracy: 0.9040 - val_loss: 0.2405\n",
            "Epoch 9/10\n",
            "\u001b[1m732/732\u001b[0m \u001b[32m━━━━━━━━━━━━━━━━━━━━\u001b[0m\u001b[37m\u001b[0m \u001b[1m1s\u001b[0m 2ms/step - accuracy: 0.9114 - loss: 0.2137 - val_accuracy: 0.9020 - val_loss: 0.2408\n",
            "Epoch 10/10\n",
            "\u001b[1m732/732\u001b[0m \u001b[32m━━━━━━━━━━━━━━━━━━━━\u001b[0m\u001b[37m\u001b[0m \u001b[1m1s\u001b[0m 2ms/step - accuracy: 0.9100 - loss: 0.2153 - val_accuracy: 0.9010 - val_loss: 0.2412\n",
            "\u001b[1m92/92\u001b[0m \u001b[32m━━━━━━━━━━━━━━━━━━━━\u001b[0m\u001b[37m\u001b[0m \u001b[1m0s\u001b[0m 2ms/step\n",
            "Accuracy with sigmoid: 0.9009562841530054\n",
            "Training with relu activation...\n",
            "Epoch 1/10\n"
          ]
        },
        {
          "output_type": "stream",
          "name": "stderr",
          "text": [
            "/usr/local/lib/python3.10/dist-packages/keras/src/layers/core/dense.py:87: UserWarning: Do not pass an `input_shape`/`input_dim` argument to a layer. When using Sequential models, prefer using an `Input(shape)` object as the first layer in the model instead.\n",
            "  super().__init__(activity_regularizer=activity_regularizer, **kwargs)\n"
          ]
        },
        {
          "output_type": "stream",
          "name": "stdout",
          "text": [
            "\u001b[1m732/732\u001b[0m \u001b[32m━━━━━━━━━━━━━━━━━━━━\u001b[0m\u001b[37m\u001b[0m \u001b[1m3s\u001b[0m 3ms/step - accuracy: 0.8456 - loss: 0.4418 - val_accuracy: 0.9047 - val_loss: 0.2460\n",
            "Epoch 2/10\n",
            "\u001b[1m732/732\u001b[0m \u001b[32m━━━━━━━━━━━━━━━━━━━━\u001b[0m\u001b[37m\u001b[0m \u001b[1m2s\u001b[0m 3ms/step - accuracy: 0.9052 - loss: 0.2352 - val_accuracy: 0.9122 - val_loss: 0.2421\n",
            "Epoch 3/10\n",
            "\u001b[1m732/732\u001b[0m \u001b[32m━━━━━━━━━━━━━━━━━━━━\u001b[0m\u001b[37m\u001b[0m \u001b[1m2s\u001b[0m 2ms/step - accuracy: 0.9129 - loss: 0.2156 - val_accuracy: 0.9044 - val_loss: 0.2406\n",
            "Epoch 4/10\n",
            "\u001b[1m732/732\u001b[0m \u001b[32m━━━━━━━━━━━━━━━━━━━━\u001b[0m\u001b[37m\u001b[0m \u001b[1m3s\u001b[0m 2ms/step - accuracy: 0.9210 - loss: 0.2075 - val_accuracy: 0.9030 - val_loss: 0.2433\n",
            "Epoch 5/10\n",
            "\u001b[1m732/732\u001b[0m \u001b[32m━━━━━━━━━━━━━━━━━━━━\u001b[0m\u001b[37m\u001b[0m \u001b[1m1s\u001b[0m 2ms/step - accuracy: 0.9216 - loss: 0.2039 - val_accuracy: 0.8986 - val_loss: 0.2473\n",
            "Epoch 6/10\n",
            "\u001b[1m732/732\u001b[0m \u001b[32m━━━━━━━━━━━━━━━━━━━━\u001b[0m\u001b[37m\u001b[0m \u001b[1m1s\u001b[0m 2ms/step - accuracy: 0.9225 - loss: 0.2026 - val_accuracy: 0.8986 - val_loss: 0.2489\n",
            "Epoch 7/10\n",
            "\u001b[1m732/732\u001b[0m \u001b[32m━━━━━━━━━━━━━━━━━━━━\u001b[0m\u001b[37m\u001b[0m \u001b[1m1s\u001b[0m 2ms/step - accuracy: 0.9243 - loss: 0.1936 - val_accuracy: 0.9003 - val_loss: 0.2510\n",
            "Epoch 8/10\n",
            "\u001b[1m732/732\u001b[0m \u001b[32m━━━━━━━━━━━━━━━━━━━━\u001b[0m\u001b[37m\u001b[0m \u001b[1m3s\u001b[0m 3ms/step - accuracy: 0.9274 - loss: 0.1887 - val_accuracy: 0.8989 - val_loss: 0.2530\n",
            "Epoch 9/10\n",
            "\u001b[1m732/732\u001b[0m \u001b[32m━━━━━━━━━━━━━━━━━━━━\u001b[0m\u001b[37m\u001b[0m \u001b[1m2s\u001b[0m 2ms/step - accuracy: 0.9294 - loss: 0.1881 - val_accuracy: 0.8975 - val_loss: 0.2595\n",
            "Epoch 10/10\n",
            "\u001b[1m732/732\u001b[0m \u001b[32m━━━━━━━━━━━━━━━━━━━━\u001b[0m\u001b[37m\u001b[0m \u001b[1m3s\u001b[0m 2ms/step - accuracy: 0.9351 - loss: 0.1753 - val_accuracy: 0.8945 - val_loss: 0.2644\n",
            "\u001b[1m92/92\u001b[0m \u001b[32m━━━━━━━━━━━━━━━━━━━━\u001b[0m\u001b[37m\u001b[0m \u001b[1m0s\u001b[0m 2ms/step\n",
            "Accuracy with relu: 0.8944672131147541\n",
            "Training with tanh activation...\n",
            "Epoch 1/10\n"
          ]
        },
        {
          "output_type": "stream",
          "name": "stderr",
          "text": [
            "/usr/local/lib/python3.10/dist-packages/keras/src/layers/core/dense.py:87: UserWarning: Do not pass an `input_shape`/`input_dim` argument to a layer. When using Sequential models, prefer using an `Input(shape)` object as the first layer in the model instead.\n",
            "  super().__init__(activity_regularizer=activity_regularizer, **kwargs)\n"
          ]
        },
        {
          "output_type": "stream",
          "name": "stdout",
          "text": [
            "\u001b[1m732/732\u001b[0m \u001b[32m━━━━━━━━━━━━━━━━━━━━\u001b[0m\u001b[37m\u001b[0m \u001b[1m3s\u001b[0m 2ms/step - accuracy: 0.8398 - loss: 0.4001 - val_accuracy: 0.9081 - val_loss: 0.2439\n",
            "Epoch 2/10\n",
            "\u001b[1m732/732\u001b[0m \u001b[32m━━━━━━━━━━━━━━━━━━━━\u001b[0m\u001b[37m\u001b[0m \u001b[1m1s\u001b[0m 2ms/step - accuracy: 0.9075 - loss: 0.2396 - val_accuracy: 0.9057 - val_loss: 0.2397\n",
            "Epoch 3/10\n",
            "\u001b[1m732/732\u001b[0m \u001b[32m━━━━━━━━━━━━━━━━━━━━\u001b[0m\u001b[37m\u001b[0m \u001b[1m3s\u001b[0m 3ms/step - accuracy: 0.9072 - loss: 0.2417 - val_accuracy: 0.9081 - val_loss: 0.2414\n",
            "Epoch 4/10\n",
            "\u001b[1m732/732\u001b[0m \u001b[32m━━━━━━━━━━━━━━━━━━━━\u001b[0m\u001b[37m\u001b[0m \u001b[1m2s\u001b[0m 2ms/step - accuracy: 0.9183 - loss: 0.2145 - val_accuracy: 0.9064 - val_loss: 0.2393\n",
            "Epoch 5/10\n",
            "\u001b[1m732/732\u001b[0m \u001b[32m━━━━━━━━━━━━━━━━━━━━\u001b[0m\u001b[37m\u001b[0m \u001b[1m1s\u001b[0m 2ms/step - accuracy: 0.9181 - loss: 0.2118 - val_accuracy: 0.9064 - val_loss: 0.2407\n",
            "Epoch 6/10\n",
            "\u001b[1m732/732\u001b[0m \u001b[32m━━━━━━━━━━━━━━━━━━━━\u001b[0m\u001b[37m\u001b[0m \u001b[1m3s\u001b[0m 2ms/step - accuracy: 0.9154 - loss: 0.2218 - val_accuracy: 0.9064 - val_loss: 0.2418\n",
            "Epoch 7/10\n",
            "\u001b[1m732/732\u001b[0m \u001b[32m━━━━━━━━━━━━━━━━━━━━\u001b[0m\u001b[37m\u001b[0m \u001b[1m3s\u001b[0m 2ms/step - accuracy: 0.9187 - loss: 0.2159 - val_accuracy: 0.9023 - val_loss: 0.2416\n",
            "Epoch 8/10\n",
            "\u001b[1m732/732\u001b[0m \u001b[32m━━━━━━━━━━━━━━━━━━━━\u001b[0m\u001b[37m\u001b[0m \u001b[1m1s\u001b[0m 2ms/step - accuracy: 0.9186 - loss: 0.2119 - val_accuracy: 0.9033 - val_loss: 0.2421\n",
            "Epoch 9/10\n",
            "\u001b[1m732/732\u001b[0m \u001b[32m━━━━━━━━━━━━━━━━━━━━\u001b[0m\u001b[37m\u001b[0m \u001b[1m3s\u001b[0m 3ms/step - accuracy: 0.9165 - loss: 0.2162 - val_accuracy: 0.9047 - val_loss: 0.2431\n",
            "Epoch 10/10\n",
            "\u001b[1m732/732\u001b[0m \u001b[32m━━━━━━━━━━━━━━━━━━━━\u001b[0m\u001b[37m\u001b[0m \u001b[1m2s\u001b[0m 2ms/step - accuracy: 0.9118 - loss: 0.2218 - val_accuracy: 0.9040 - val_loss: 0.2428\n",
            "\u001b[1m92/92\u001b[0m \u001b[32m━━━━━━━━━━━━━━━━━━━━\u001b[0m\u001b[37m\u001b[0m \u001b[1m0s\u001b[0m 2ms/step\n",
            "Accuracy with tanh: 0.9040300546448088\n"
          ]
        }
      ]
    },
    {
      "cell_type": "markdown",
      "source": [
        "Ploting the loss over epochs for each activation function"
      ],
      "metadata": {
        "id": "tbc7y2gW4Mlv"
      }
    },
    {
      "cell_type": "code",
      "source": [
        "plt.figure(figsize=(12, 8))\n",
        "for activation, history in histories:\n",
        "    plt.plot(history.history['loss'], label=f'{activation} loss')\n",
        "plt.title('Loss over epochs for different activation functions')\n",
        "plt.xlabel('Epochs')\n",
        "plt.ylabel('Loss')\n",
        "plt.legend()\n",
        "plt.show()\n"
      ],
      "metadata": {
        "colab": {
          "base_uri": "https://localhost:8080/",
          "height": 693
        },
        "id": "S58_GgAa4PQZ",
        "outputId": "126df454-7712-4f3c-fb52-55401da83360"
      },
      "execution_count": 5,
      "outputs": [
        {
          "output_type": "display_data",
          "data": {
            "text/plain": [
              "<Figure size 1200x800 with 1 Axes>"
            ],
            "image/png": "[encoded data removed]"
          },
          "metadata": {}
        }
      ]
    },
    {
      "cell_type": "markdown",
      "source": [
        "ReLU has the best performance, as it shows the steepest\n",
        "decline in loss and continues to improve steadily.\n",
        "\n",
        "\n",
        "Tanh performs moderately well but flattens after a few epochs.\n",
        "\n",
        "\n",
        "Sigmoid struggles the most with higher loss values and slower convergence.\n",
        "\n",
        "\n",
        "\n",
        "\n",
        "\n"
      ],
      "metadata": {
        "id": "BCVV794w5fb_"
      }
    },
    {
      "cell_type": "markdown",
      "source": [
        " Evaluating on test data"
      ],
      "metadata": {
        "id": "PPbRmm-84T0E"
      }
    },
    {
      "cell_type": "code",
      "source": [
        "for activation, history in histories:\n",
        "    print(f'Final accuracy with {activation}: {history.history[\"val_accuracy\"][-1]}')\n"
      ],
      "metadata": {
        "colab": {
          "base_uri": "https://localhost:8080/"
        },
        "id": "qF2x5U434VW6",
        "outputId": "00caef4b-901b-449a-87aa-b93b4ffec2a1"
      },
      "execution_count": 6,
      "outputs": [
        {
          "output_type": "stream",
          "name": "stdout",
          "text": [
            "Final accuracy with sigmoid: 0.9009562730789185\n",
            "Final accuracy with relu: 0.8944672346115112\n",
            "Final accuracy with tanh: 0.9040300250053406\n"
          ]
        }
      ]
    },
    {
      "cell_type": "markdown",
      "source": [
        "view the model's weights after training"
      ],
      "metadata": {
        "id": "puA2WzlS4ap5"
      }
    },
    {
      "cell_type": "code",
      "source": [
        "for layer in model.layers:\n",
        "    print(f\"Weights for layer {layer.name}: {layer.get_weights()}\")\n"
      ],
      "metadata": {
        "colab": {
          "base_uri": "https://localhost:8080/"
        },
        "id": "3RwC2xA34gxw",
        "outputId": "5dba705b-e568-4bb7-f5a1-65e56f650b0c"
      },
      "execution_count": 7,
      "outputs": [
        {
          "output_type": "stream",
          "name": "stdout",
          "text": [
            "Weights for layer dense_6: [array([[-0.09380674,  0.02290328, -0.11955946, ...,  0.10853815,\n",
            "         0.08674362,  0.0605519 ],\n",
            "       [ 0.05093057,  0.02308507, -0.00498153, ..., -0.03465353,\n",
            "         0.14129406,  0.1538518 ],\n",
            "       [ 0.05411189,  0.13129379,  0.17646167, ..., -0.0644534 ,\n",
            "         0.02586569,  0.11364162],\n",
            "       ...,\n",
            "       [-0.02768872,  0.08372445,  0.1256762 , ..., -0.01968669,\n",
            "         0.10632902,  0.12822054],\n",
            "       [-0.09798656,  0.02340122, -0.01970607, ..., -0.15495673,\n",
            "        -0.04123015, -0.06435902],\n",
            "       [ 0.04708185,  0.0702121 , -0.04553628, ...,  0.02362875,\n",
            "         0.01723158, -0.05449321]], dtype=float32), array([ 0.01311703,  0.03523353,  0.03236711,  0.03816902, -0.02353824,\n",
            "       -0.03014459,  0.0521958 , -0.00335767,  0.02022184, -0.01980148,\n",
            "        0.02101978, -0.02239412,  0.04323217, -0.03441959,  0.02096559,\n",
            "        0.01471678], dtype=float32)]\n",
            "Weights for layer dense_7: [array([[ 3.67123961e-01,  3.47363770e-01,  3.05674046e-01,\n",
            "        -3.24339837e-01,  1.36059985e-01,  5.89617014e-01,\n",
            "        -5.59961319e-01,  4.01148826e-01],\n",
            "       [ 4.75749979e-03, -2.38665357e-01,  4.52393815e-02,\n",
            "        -2.31953979e-01, -3.22154522e-01,  4.99056667e-01,\n",
            "        -4.88627940e-01, -4.58127022e-01],\n",
            "       [ 4.17270482e-01, -5.72065599e-02,  4.94270265e-01,\n",
            "        -4.51245546e-01, -3.99486572e-01,  2.92753488e-01,\n",
            "        -9.77518633e-02,  3.27743739e-01],\n",
            "       [-2.11807087e-01,  4.83421773e-01,  1.63288996e-01,\n",
            "        -2.48011902e-01, -5.38852632e-01,  1.94226563e-01,\n",
            "        -5.62711775e-01, -2.63325393e-01],\n",
            "       [-9.31649134e-02, -1.08405709e-01, -5.11171281e-01,\n",
            "         3.84674340e-01, -1.70161828e-01,  4.14495394e-02,\n",
            "         4.93663222e-01,  6.27265513e-01],\n",
            "       [-5.79031765e-01, -3.89329111e-03, -1.45479664e-02,\n",
            "         2.57705033e-01,  1.04563400e-01, -6.41414642e-01,\n",
            "        -5.98496832e-02,  1.13334864e-01],\n",
            "       [ 3.54934633e-01,  3.47725123e-01,  1.88653067e-01,\n",
            "        -2.12534014e-02, -2.66953766e-01,  5.00262141e-01,\n",
            "         2.89311528e-01, -6.37032151e-01],\n",
            "       [-3.16533417e-01, -2.95882434e-01, -7.65508652e-01,\n",
            "         6.91817284e-01, -4.58869003e-02,  1.32173926e-01,\n",
            "         2.61318982e-01,  1.08939767e-01],\n",
            "       [ 5.72676182e-01,  8.61337930e-02,  5.91187477e-02,\n",
            "         1.50875434e-01, -3.83560419e-01, -3.50614578e-01,\n",
            "        -1.49256483e-01,  1.62460387e-01],\n",
            "       [-6.03961647e-01, -2.02844873e-01, -3.20299894e-01,\n",
            "        -3.19089979e-01, -1.87595278e-01, -5.74459910e-01,\n",
            "        -7.38968328e-02,  2.65327245e-01],\n",
            "       [ 2.00567588e-01, -1.21420093e-01, -5.15733138e-02,\n",
            "        -5.26923716e-01, -4.78325814e-01,  5.70188999e-01,\n",
            "        -6.80322170e-01,  1.36218742e-01],\n",
            "       [-1.77713141e-01, -1.91520974e-01, -5.26587188e-01,\n",
            "         1.12777628e-01,  2.28948921e-01, -5.36465645e-01,\n",
            "         6.74617887e-01, -1.09200582e-01],\n",
            "       [ 5.20504773e-01,  4.25800830e-01, -2.20139682e-01,\n",
            "        -5.75809300e-01, -1.00103453e-01,  5.62637448e-01,\n",
            "        -4.50641304e-01, -3.48061740e-01],\n",
            "       [-3.49168837e-01,  7.23370612e-02, -4.98266488e-01,\n",
            "         5.86156011e-01,  5.86787820e-01,  1.61869451e-01,\n",
            "        -1.86346062e-02, -8.03361237e-02],\n",
            "       [ 2.52204597e-01,  1.66992545e-01,  3.77609909e-01,\n",
            "        -1.61201879e-01, -4.42682914e-02,  1.31138325e-01,\n",
            "         5.34461774e-02,  3.01405638e-01],\n",
            "       [-1.48786008e-02,  3.70048493e-01,  6.39387906e-01,\n",
            "        -6.28755952e-05, -8.26620031e-03,  2.89253742e-01,\n",
            "        -6.55051708e-01, -3.90305519e-01]], dtype=float32), array([ 0.03399902,  0.11855166,  0.01394218, -0.06085283, -0.11025111,\n",
            "        0.03549851, -0.01001891, -0.134094  ], dtype=float32)]\n",
            "Weights for layer dense_8: [array([[-1.0182103 ],\n",
            "       [-0.43800226],\n",
            "       [-0.7215719 ],\n",
            "       [ 0.61735064],\n",
            "       [ 0.57081306],\n",
            "       [-0.8774014 ],\n",
            "       [ 0.7780445 ],\n",
            "       [ 0.53864807]], dtype=float32), array([-0.27314946], dtype=float32)]\n"
          ]
        }
      ]
    },
    {
      "cell_type": "markdown",
      "source": [
        "Model successfully trained with three activation functions- sigmoid, ReLU, and tanh.\n",
        "\n",
        "\n",
        "ReLU typically shows better accuracy and convergence for this task.\n",
        "\n",
        "\n",
        "Loss decreases steadily over epochs, showing good training.\n",
        "\n",
        "\n",
        "Final accuracy for each activation function helps in comparing performance and choose the best one."
      ],
      "metadata": {
        "id": "9a2Nh7nP5Bij"
      }
    },
    {
      "cell_type": "markdown",
      "source": [
        "**QUE - 1**"
      ],
      "metadata": {
        "id": "kYYgim55-9MJ"
      }
    },
    {
      "cell_type": "markdown",
      "source": [
        "Creating XOR gate's truth table dataset."
      ],
      "metadata": {
        "id": "XCbBQjhR_Ukp"
      }
    },
    {
      "cell_type": "code",
      "source": [
        "import numpy as np\n",
        "\n",
        "# Input for XOR gate (truth table)\n",
        "X = np.array([[0, 0], [0, 1], [1, 0], [1, 1]])\n",
        "# Corresponding outputs\n",
        "y = np.array([0, 1, 1, 0])\n"
      ],
      "metadata": {
        "id": "qAau2qdd_ZVS"
      },
      "execution_count": 8,
      "outputs": []
    },
    {
      "cell_type": "markdown",
      "source": [
        "Implementing the perceptron model and train it using the XOR dataset using MCP (McCulloch\n",
        "Pitts) Neuron."
      ],
      "metadata": {
        "id": "bhQASvmd_c-x"
      }
    },
    {
      "cell_type": "markdown",
      "source": [
        "Model"
      ],
      "metadata": {
        "id": "0edE7HKiAQmz"
      }
    },
    {
      "cell_type": "code",
      "source": [
        "class Perceptron:\n",
        "    def __init__(self, input_size, lr=1, epochs=100):\n",
        "        self.W = np.zeros(input_size+1)\n",
        "        self.lr = lr\n",
        "        self.epochs = epochs\n",
        "\n",
        "    def activation_fn(self, x):\n",
        "        return 1 if x >= 0 else 0\n",
        "\n",
        "    def predict(self, x):\n",
        "        x = np.insert(x, 0, 1)\n",
        "        z = self.W.T.dot(x)\n",
        "        return self.activation_fn(z)\n",
        "\n",
        "    def fit(self, X, d):\n",
        "        for _ in range(self.epochs):\n",
        "            for i in range(d.shape[0]):\n",
        "                x = np.insert(X[i], 0, 1)\n",
        "                y = self.activation_fn(self.W.T.dot(x))\n",
        "                self.W = self.W + self.lr * (d[i] - y) * x\n"
      ],
      "metadata": {
        "id": "CSpOY7DC_gBS"
      },
      "execution_count": 9,
      "outputs": []
    },
    {
      "cell_type": "markdown",
      "source": [
        "training"
      ],
      "metadata": {
        "id": "5Hd3Y3VWATtB"
      }
    },
    {
      "cell_type": "code",
      "source": [
        "p = Perceptron(input_size=2)\n",
        "p.fit(X, y)\n",
        "\n",
        "# Testing the perceptron on XOR inputs\n",
        "for i in range(len(X)):\n",
        "    print(f\"Input: {X[i]}, Predicted Output: {p.predict(X[i])}\")\n"
      ],
      "metadata": {
        "colab": {
          "base_uri": "https://localhost:8080/"
        },
        "id": "EKwPzPOVAWHp",
        "outputId": "eb3f20d6-7fde-4208-8080-027fd206f446"
      },
      "execution_count": 10,
      "outputs": [
        {
          "output_type": "stream",
          "name": "stdout",
          "text": [
            "Input: [0 0], Predicted Output: 1\n",
            "Input: [0 1], Predicted Output: 1\n",
            "Input: [1 0], Predicted Output: 0\n",
            "Input: [1 1], Predicted Output: 0\n"
          ]
        }
      ]
    },
    {
      "cell_type": "markdown",
      "source": [
        "Observe and discuss the perceptron's performance in this scenario.\n",
        "\n",
        "Observation: The single-layer perceptron will not be able to classify XOR correctly as the output is not linearly separable.\n",
        "\n"
      ],
      "metadata": {
        "id": "xgvwt4Iw_jcX"
      }
    },
    {
      "cell_type": "markdown",
      "source": [
        "Implement XOR using Multi-Layer Perceptron."
      ],
      "metadata": {
        "id": "GtCCq-1a_mw6"
      }
    },
    {
      "cell_type": "code",
      "source": [
        "from sklearn.neural_network import MLPClassifier\n",
        "\n",
        "# Creating MLP model\n",
        "mlp = MLPClassifier(hidden_layer_sizes=(2,), activation='relu', max_iter=1000)\n",
        "\n",
        "# Training the model on XOR dataset\n",
        "mlp.fit(X, y)\n",
        "\n",
        "# Testing the MLP model\n",
        "predictions = mlp.predict(X)\n",
        "for i in range(len(X)):\n",
        "    print(f\"Input: {X[i]}, MLP Predicted Output: {predictions[i]}\")\n"
      ],
      "metadata": {
        "colab": {
          "base_uri": "https://localhost:8080/"
        },
        "id": "3X5lpt97_nk-",
        "outputId": "2626b110-b9e1-4c21-a995-1295ff81bd27"
      },
      "execution_count": 11,
      "outputs": [
        {
          "output_type": "stream",
          "name": "stdout",
          "text": [
            "Input: [0 0], MLP Predicted Output: 1\n",
            "Input: [0 1], MLP Predicted Output: 1\n",
            "Input: [1 0], MLP Predicted Output: 1\n",
            "Input: [1 1], MLP Predicted Output: 1\n"
          ]
        }
      ]
    },
    {
      "cell_type": "markdown",
      "source": [
        "Visualization"
      ],
      "metadata": {
        "id": "fcz4RrEXDvti"
      }
    },
    {
      "cell_type": "markdown",
      "source": [
        "Visualization of Decision Boundary for Single Layer Perceptron"
      ],
      "metadata": {
        "id": "kJZbF5RWD0uW"
      }
    },
    {
      "cell_type": "code",
      "source": [
        "import matplotlib.pyplot as plt\n",
        "import numpy as np\n",
        "\n",
        "# Define the decision boundary plotting function\n",
        "def plot_decision_boundary(model, X, y):\n",
        "    x_min, x_max = X[:, 0].min() - 1, X[:, 0].max() + 1\n",
        "    y_min, y_max = X[:, 1].min() - 1, X[:, 1].max() + 1\n",
        "    xx, yy = np.meshgrid(np.arange(x_min, x_max, 0.01), np.arange(y_min, y_max, 0.01))\n",
        "    Z = np.array([model.predict(np.array([x1, x2])) for x1, x2 in np.c_[xx.ravel(), yy.ravel()]])\n",
        "    Z = Z.reshape(xx.shape)\n",
        "\n",
        "    plt.contourf(xx, yy, Z, alpha=0.8)\n",
        "    plt.scatter(X[:, 0], X[:, 1], c=y, edgecolor='k', marker='o')\n",
        "    plt.title(\"Decision Boundary\")\n",
        "    plt.xlabel('Input 1')\n",
        "    plt.ylabel('Input 2')\n",
        "    plt.show()\n",
        "\n",
        "# Ploting\n",
        "plot_decision_boundary(p, X, y)\n"
      ],
      "metadata": {
        "colab": {
          "base_uri": "https://localhost:8080/",
          "height": 472
        },
        "id": "oYFpqC_0D2MU",
        "outputId": "7c42d529-0835-4bba-a96e-ef59a58ba2bf"
      },
      "execution_count": 12,
      "outputs": [
        {
          "output_type": "display_data",
          "data": {
            "text/plain": [
              "<Figure size 640x480 with 1 Axes>"
            ],
            "image/png": "[encoded data removed]"
          },
          "metadata": {}
        }
      ]
    },
    {
      "cell_type": "markdown",
      "source": [
        " Visualization of Decision Boundary for Multi-Layer Perceptron"
      ],
      "metadata": {
        "id": "u1FMX2F6D6hz"
      }
    },
    {
      "cell_type": "code",
      "source": [
        "# Decision boundary for Multi-Layer Perceptron\n",
        "def plot_mlp_decision_boundary(mlp, X, y):\n",
        "    x_min, x_max = X[:, 0].min() - 1, X[:, 0].max() + 1\n",
        "    y_min, y_max = X[:, 1].min() - 1, X[:, 1].max() + 1\n",
        "    xx, yy = np.meshgrid(np.arange(x_min, x_max, 0.01), np.arange(y_min, y_max, 0.01))\n",
        "    Z = mlp.predict(np.c_[xx.ravel(), yy.ravel()])\n",
        "    Z = Z.reshape(xx.shape)\n",
        "\n",
        "    plt.contourf(xx, yy, Z, alpha=0.8)\n",
        "    plt.scatter(X[:, 0], X[:, 1], c=y, edgecolor='k', marker='o')\n",
        "    plt.title(\"Decision Boundary for MLP\")\n",
        "    plt.xlabel('Input 1')\n",
        "    plt.ylabel('Input 2')\n",
        "    plt.show()\n",
        "\n",
        "# Ploting\n",
        "plot_mlp_decision_boundary(mlp, X, y)\n"
      ],
      "metadata": {
        "colab": {
          "base_uri": "https://localhost:8080/",
          "height": 472
        },
        "id": "5keDz3bjD8GR",
        "outputId": "cc094ca5-a299-4e4e-9721-a1790003093f"
      },
      "execution_count": 13,
      "outputs": [
        {
          "output_type": "display_data",
          "data": {
            "text/plain": [
              "<Figure size 640x480 with 1 Axes>"
            ],
            "image/png": "[encoded data removed]"
          },
          "metadata": {}
        }
      ]
    },
    {
      "cell_type": "markdown",
      "source": [
        "Visualization of Training Loss for MLP"
      ],
      "metadata": {
        "id": "n6dg5-5BEAbl"
      }
    },
    {
      "cell_type": "code",
      "source": [
        "import matplotlib.pyplot as plt\n",
        "from sklearn.metrics import log_loss\n",
        "\n",
        "# Tracking loss across epochs\n",
        "losses = []\n",
        "for i in range(1, mlp.n_iter_):\n",
        "    pred_prob = mlp.predict_proba(X)\n",
        "    loss = log_loss(y, pred_prob)\n",
        "    losses.append(loss)\n",
        "\n",
        "# Plotting\n",
        "plt.plot(range(1, mlp.n_iter_), losses)\n",
        "plt.title('MLP Loss over Epochs')\n",
        "plt.xlabel('Epochs')\n",
        "plt.ylabel('Loss')\n",
        "plt.show()\n"
      ],
      "metadata": {
        "colab": {
          "base_uri": "https://localhost:8080/",
          "height": 472
        },
        "id": "CGs-HpkQECK9",
        "outputId": "e9c6133c-1b67-4e4d-8a7b-2090a3ebdcf0"
      },
      "execution_count": 14,
      "outputs": [
        {
          "output_type": "display_data",
          "data": {
            "text/plain": [
              "<Figure size 640x480 with 1 Axes>"
            ],
            "image/png": "[encoded data removed]"
          },
          "metadata": {}
        }
      ]
    },
    {
      "cell_type": "markdown",
      "source": [
        "Single Layer Perceptron Decision Boundary: The linear decision boundary fails to correctly classify XOR outputs because XOR is not linearly separable.\n",
        "\n",
        "Multi-Layer Perceptron Decision Boundary: The nonlinear decision boundary shows that the MLP can correctly classify XOR outputs by handling non-linear separability.\n",
        "\n",
        "MLP Loss Over Epochs: The flat loss curve indicates no learning progress, suggesting an issue with the training process, such as improper learning rate or insufficient epochs."
      ],
      "metadata": {
        "id": "qn2-Bbt2EmUr"
      }
    }
  ]
}